{
  "nbformat": 4,
  "nbformat_minor": 0,
  "metadata": {
    "colab": {
      "provenance": []
    },
    "kernelspec": {
      "name": "python3",
      "display_name": "Python 3"
    },
    "language_info": {
      "name": "python"
    }
  },
  "cells": [
    {
      "cell_type": "code",
      "execution_count": null,
      "metadata": {
        "colab": {
          "base_uri": "https://localhost:8080/"
        },
        "id": "XhnUf4NHpWRF",
        "outputId": "f2002e85-4c76-40b4-8140-d3fc8bed19ee"
      },
      "outputs": [
        {
          "output_type": "stream",
          "name": "stdout",
          "text": [
            "   Tid Refund Marital-Status  Taxable-Income Cheat\n",
            "0    1    Yes         Single          125000    No\n",
            "1    2     No        Married          100000    No\n",
            "2    3     No         Single           70000    No\n",
            "3    4    Yes        Married          120000    No\n",
            "4    5     No       Divorced           95000   Yes\n",
            "5    6     No        Married           60000    No\n",
            "6    7    Yes       Divorced          220000    No\n",
            "7    8     No         Single           85000   Yes\n",
            "8    9     No        Married           75000    No\n",
            "9   10     No         Single           90000   Yes\n"
          ]
        }
      ],
      "source": [
        "import pandas as pd\n",
        "data = {\n",
        "    'Tid' : [1,2,3,4,5,6,7,8,9,10],\n",
        "    'Refund' : ['Yes','No','No','Yes','No','No','Yes','No','No','No'],\n",
        "    'Marital-Status' : ['Single','Married','Single','Married','Divorced','Married','Divorced','Single','Married','Single'],\n",
        "    'Taxable-Income' : [125000,100000,70000,120000,95000,60000,220000,85000,75000,90000],\n",
        "    'Cheat' : ['No','No','No','No','Yes','No','No','Yes','No','Yes']\n",
        "}\n",
        "dataset= pd.DataFrame(data)\n",
        "print(dataset)"
      ]
    },
    {
      "cell_type": "code",
      "source": [
        "row=dataset.iloc[[0,4,7,8]]\n",
        "print(row)"
      ],
      "metadata": {
        "colab": {
          "base_uri": "https://localhost:8080/"
        },
        "id": "s-MchKkcpdnw",
        "outputId": "0ed2790a-15bc-48da-dd20-970a7c292b3b"
      },
      "execution_count": null,
      "outputs": [
        {
          "output_type": "stream",
          "name": "stdout",
          "text": [
            "   Tid Refund Marital-Status  Taxable-Income Cheat\n",
            "0    1    Yes         Single          125000    No\n",
            "4    5     No       Divorced           95000   Yes\n",
            "7    8     No         Single           85000   Yes\n",
            "8    9     No        Married           75000    No\n"
          ]
        }
      ]
    },
    {
      "cell_type": "code",
      "source": [
        "Q31rows=dataset.iloc[3:8]\n",
        "print(Q31rows)"
      ],
      "metadata": {
        "colab": {
          "base_uri": "https://localhost:8080/"
        },
        "id": "JJ7SVqUdpzeJ",
        "outputId": "a5e3896a-0671-4ff8-f21b-e6b60b4ebd19"
      },
      "execution_count": null,
      "outputs": [
        {
          "output_type": "stream",
          "name": "stdout",
          "text": [
            "   Tid Refund Marital-Status  Taxable-Income Cheat\n",
            "3    4    Yes        Married          120000    No\n",
            "4    5     No       Divorced           95000   Yes\n",
            "5    6     No        Married           60000    No\n",
            "6    7    Yes       Divorced          220000    No\n",
            "7    8     No         Single           85000   Yes\n"
          ]
        }
      ]
    },
    {
      "cell_type": "code",
      "source": [
        "Q32rows = dataset.iloc[4:9,2:5]\n",
        "print(Q32rows)"
      ],
      "metadata": {
        "colab": {
          "base_uri": "https://localhost:8080/"
        },
        "id": "OaIZxzBCp51r",
        "outputId": "c27f4b3e-7f35-4440-c386-34703329a6aa"
      },
      "execution_count": null,
      "outputs": [
        {
          "output_type": "stream",
          "name": "stdout",
          "text": [
            "  Marital-Status  Taxable-Income Cheat\n",
            "4       Divorced           95000   Yes\n",
            "5        Married           60000    No\n",
            "6       Divorced          220000    No\n",
            "7         Single           85000   Yes\n",
            "8        Married           75000    No\n"
          ]
        }
      ]
    },
    {
      "cell_type": "code",
      "source": [
        "Q33rows = dataset.iloc[:,1:4]\n",
        "print(Q33rows)"
      ],
      "metadata": {
        "colab": {
          "base_uri": "https://localhost:8080/"
        },
        "id": "UVYB_Sdop-O3",
        "outputId": "d3a3d507-82ad-4255-f025-7287d0bd2062"
      },
      "execution_count": null,
      "outputs": [
        {
          "output_type": "stream",
          "name": "stdout",
          "text": [
            "  Refund Marital-Status  Taxable-Income\n",
            "0    Yes         Single          125000\n",
            "1     No        Married          100000\n",
            "2     No         Single           70000\n",
            "3    Yes        Married          120000\n",
            "4     No       Divorced           95000\n",
            "5     No        Married           60000\n",
            "6    Yes       Divorced          220000\n",
            "7     No         Single           85000\n",
            "8     No        Married           75000\n",
            "9     No         Single           90000\n"
          ]
        }
      ]
    },
    {
      "cell_type": "code",
      "source": [
        "dataset1=pd.read_csv('Iris.csv')\n",
        "first_five=dataset1.iloc[:5,:].values\n",
        "print(first_five)"
      ],
      "metadata": {
        "colab": {
          "base_uri": "https://localhost:8080/"
        },
        "id": "k0l8_FVXqAoe",
        "outputId": "dd9af43c-7acd-4b6a-90bc-9ab22c00d43f"
      },
      "execution_count": 21,
      "outputs": [
        {
          "output_type": "stream",
          "name": "stdout",
          "text": [
            "[[1 5.1 3.5 1.4 0.2 'Iris-setosa']\n",
            " [2 4.9 3.0 1.4 0.2 'Iris-setosa']\n",
            " [3 4.7 3.2 1.3 0.2 'Iris-setosa']\n",
            " [4 4.6 3.1 1.5 0.2 'Iris-setosa']\n",
            " [5 5.0 3.6 1.4 0.2 'Iris-setosa']]\n"
          ]
        }
      ]
    },
    {
      "cell_type": "code",
      "source": [
        "dataset1_del_row = dataset1.drop(index = 4)\n",
        "dataset1_del_col = dataset1_del_row.drop(dataset1_del_row.columns[2],axis = 1)\n",
        "dataset1_del_col.head()"
      ],
      "metadata": {
        "id": "hdyFVzzzqBfg",
        "colab": {
          "base_uri": "https://localhost:8080/",
          "height": 206
        },
        "outputId": "46be66ea-baad-456a-dea2-9968cb9ebcef"
      },
      "execution_count": 22,
      "outputs": [
        {
          "output_type": "execute_result",
          "data": {
            "text/plain": [
              "   Id  SepalLengthCm  PetalLengthCm  PetalWidthCm      Species\n",
              "0   1            5.1            1.4           0.2  Iris-setosa\n",
              "1   2            4.9            1.4           0.2  Iris-setosa\n",
              "2   3            4.7            1.3           0.2  Iris-setosa\n",
              "3   4            4.6            1.5           0.2  Iris-setosa\n",
              "5   6            5.4            1.7           0.4  Iris-setosa"
            ],
            "text/html": [
              "\n",
              "  <div id=\"df-1acd684f-bc04-4cf0-bb06-44ba6160b920\" class=\"colab-df-container\">\n",
              "    <div>\n",
              "<style scoped>\n",
              "    .dataframe tbody tr th:only-of-type {\n",
              "        vertical-align: middle;\n",
              "    }\n",
              "\n",
              "    .dataframe tbody tr th {\n",
              "        vertical-align: top;\n",
              "    }\n",
              "\n",
              "    .dataframe thead th {\n",
              "        text-align: right;\n",
              "    }\n",
              "</style>\n",
              "<table border=\"1\" class=\"dataframe\">\n",
              "  <thead>\n",
              "    <tr style=\"text-align: right;\">\n",
              "      <th></th>\n",
              "      <th>Id</th>\n",
              "      <th>SepalLengthCm</th>\n",
              "      <th>PetalLengthCm</th>\n",
              "      <th>PetalWidthCm</th>\n",
              "      <th>Species</th>\n",
              "    </tr>\n",
              "  </thead>\n",
              "  <tbody>\n",
              "    <tr>\n",
              "      <th>0</th>\n",
              "      <td>1</td>\n",
              "      <td>5.1</td>\n",
              "      <td>1.4</td>\n",
              "      <td>0.2</td>\n",
              "      <td>Iris-setosa</td>\n",
              "    </tr>\n",
              "    <tr>\n",
              "      <th>1</th>\n",
              "      <td>2</td>\n",
              "      <td>4.9</td>\n",
              "      <td>1.4</td>\n",
              "      <td>0.2</td>\n",
              "      <td>Iris-setosa</td>\n",
              "    </tr>\n",
              "    <tr>\n",
              "      <th>2</th>\n",
              "      <td>3</td>\n",
              "      <td>4.7</td>\n",
              "      <td>1.3</td>\n",
              "      <td>0.2</td>\n",
              "      <td>Iris-setosa</td>\n",
              "    </tr>\n",
              "    <tr>\n",
              "      <th>3</th>\n",
              "      <td>4</td>\n",
              "      <td>4.6</td>\n",
              "      <td>1.5</td>\n",
              "      <td>0.2</td>\n",
              "      <td>Iris-setosa</td>\n",
              "    </tr>\n",
              "    <tr>\n",
              "      <th>5</th>\n",
              "      <td>6</td>\n",
              "      <td>5.4</td>\n",
              "      <td>1.7</td>\n",
              "      <td>0.4</td>\n",
              "      <td>Iris-setosa</td>\n",
              "    </tr>\n",
              "  </tbody>\n",
              "</table>\n",
              "</div>\n",
              "    <div class=\"colab-df-buttons\">\n",
              "\n",
              "  <div class=\"colab-df-container\">\n",
              "    <button class=\"colab-df-convert\" onclick=\"convertToInteractive('df-1acd684f-bc04-4cf0-bb06-44ba6160b920')\"\n",
              "            title=\"Convert this dataframe to an interactive table.\"\n",
              "            style=\"display:none;\">\n",
              "\n",
              "  <svg xmlns=\"http://www.w3.org/2000/svg\" height=\"24px\" viewBox=\"0 -960 960 960\">\n",
              "    <path d=\"M120-120v-720h720v720H120Zm60-500h600v-160H180v160Zm220 220h160v-160H400v160Zm0 220h160v-160H400v160ZM180-400h160v-160H180v160Zm440 0h160v-160H620v160ZM180-180h160v-160H180v160Zm440 0h160v-160H620v160Z\"/>\n",
              "  </svg>\n",
              "    </button>\n",
              "\n",
              "  <style>\n",
              "    .colab-df-container {\n",
              "      display:flex;\n",
              "      gap: 12px;\n",
              "    }\n",
              "\n",
              "    .colab-df-convert {\n",
              "      background-color: #E8F0FE;\n",
              "      border: none;\n",
              "      border-radius: 50%;\n",
              "      cursor: pointer;\n",
              "      display: none;\n",
              "      fill: #1967D2;\n",
              "      height: 32px;\n",
              "      padding: 0 0 0 0;\n",
              "      width: 32px;\n",
              "    }\n",
              "\n",
              "    .colab-df-convert:hover {\n",
              "      background-color: #E2EBFA;\n",
              "      box-shadow: 0px 1px 2px rgba(60, 64, 67, 0.3), 0px 1px 3px 1px rgba(60, 64, 67, 0.15);\n",
              "      fill: #174EA6;\n",
              "    }\n",
              "\n",
              "    .colab-df-buttons div {\n",
              "      margin-bottom: 4px;\n",
              "    }\n",
              "\n",
              "    [theme=dark] .colab-df-convert {\n",
              "      background-color: #3B4455;\n",
              "      fill: #D2E3FC;\n",
              "    }\n",
              "\n",
              "    [theme=dark] .colab-df-convert:hover {\n",
              "      background-color: #434B5C;\n",
              "      box-shadow: 0px 1px 3px 1px rgba(0, 0, 0, 0.15);\n",
              "      filter: drop-shadow(0px 1px 2px rgba(0, 0, 0, 0.3));\n",
              "      fill: #FFFFFF;\n",
              "    }\n",
              "  </style>\n",
              "\n",
              "    <script>\n",
              "      const buttonEl =\n",
              "        document.querySelector('#df-1acd684f-bc04-4cf0-bb06-44ba6160b920 button.colab-df-convert');\n",
              "      buttonEl.style.display =\n",
              "        google.colab.kernel.accessAllowed ? 'block' : 'none';\n",
              "\n",
              "      async function convertToInteractive(key) {\n",
              "        const element = document.querySelector('#df-1acd684f-bc04-4cf0-bb06-44ba6160b920');\n",
              "        const dataTable =\n",
              "          await google.colab.kernel.invokeFunction('convertToInteractive',\n",
              "                                                    [key], {});\n",
              "        if (!dataTable) return;\n",
              "\n",
              "        const docLinkHtml = 'Like what you see? Visit the ' +\n",
              "          '<a target=\"_blank\" href=https://colab.research.google.com/notebooks/data_table.ipynb>data table notebook</a>'\n",
              "          + ' to learn more about interactive tables.';\n",
              "        element.innerHTML = '';\n",
              "        dataTable['output_type'] = 'display_data';\n",
              "        await google.colab.output.renderOutput(dataTable, element);\n",
              "        const docLink = document.createElement('div');\n",
              "        docLink.innerHTML = docLinkHtml;\n",
              "        element.appendChild(docLink);\n",
              "      }\n",
              "    </script>\n",
              "  </div>\n",
              "\n",
              "\n",
              "<div id=\"df-d031bf17-3cab-4b56-8e9b-dbbaabfae2cb\">\n",
              "  <button class=\"colab-df-quickchart\" onclick=\"quickchart('df-d031bf17-3cab-4b56-8e9b-dbbaabfae2cb')\"\n",
              "            title=\"Suggest charts\"\n",
              "            style=\"display:none;\">\n",
              "\n",
              "<svg xmlns=\"http://www.w3.org/2000/svg\" height=\"24px\"viewBox=\"0 0 24 24\"\n",
              "     width=\"24px\">\n",
              "    <g>\n",
              "        <path d=\"M19 3H5c-1.1 0-2 .9-2 2v14c0 1.1.9 2 2 2h14c1.1 0 2-.9 2-2V5c0-1.1-.9-2-2-2zM9 17H7v-7h2v7zm4 0h-2V7h2v10zm4 0h-2v-4h2v4z\"/>\n",
              "    </g>\n",
              "</svg>\n",
              "  </button>\n",
              "\n",
              "<style>\n",
              "  .colab-df-quickchart {\n",
              "      --bg-color: #E8F0FE;\n",
              "      --fill-color: #1967D2;\n",
              "      --hover-bg-color: #E2EBFA;\n",
              "      --hover-fill-color: #174EA6;\n",
              "      --disabled-fill-color: #AAA;\n",
              "      --disabled-bg-color: #DDD;\n",
              "  }\n",
              "\n",
              "  [theme=dark] .colab-df-quickchart {\n",
              "      --bg-color: #3B4455;\n",
              "      --fill-color: #D2E3FC;\n",
              "      --hover-bg-color: #434B5C;\n",
              "      --hover-fill-color: #FFFFFF;\n",
              "      --disabled-bg-color: #3B4455;\n",
              "      --disabled-fill-color: #666;\n",
              "  }\n",
              "\n",
              "  .colab-df-quickchart {\n",
              "    background-color: var(--bg-color);\n",
              "    border: none;\n",
              "    border-radius: 50%;\n",
              "    cursor: pointer;\n",
              "    display: none;\n",
              "    fill: var(--fill-color);\n",
              "    height: 32px;\n",
              "    padding: 0;\n",
              "    width: 32px;\n",
              "  }\n",
              "\n",
              "  .colab-df-quickchart:hover {\n",
              "    background-color: var(--hover-bg-color);\n",
              "    box-shadow: 0 1px 2px rgba(60, 64, 67, 0.3), 0 1px 3px 1px rgba(60, 64, 67, 0.15);\n",
              "    fill: var(--button-hover-fill-color);\n",
              "  }\n",
              "\n",
              "  .colab-df-quickchart-complete:disabled,\n",
              "  .colab-df-quickchart-complete:disabled:hover {\n",
              "    background-color: var(--disabled-bg-color);\n",
              "    fill: var(--disabled-fill-color);\n",
              "    box-shadow: none;\n",
              "  }\n",
              "\n",
              "  .colab-df-spinner {\n",
              "    border: 2px solid var(--fill-color);\n",
              "    border-color: transparent;\n",
              "    border-bottom-color: var(--fill-color);\n",
              "    animation:\n",
              "      spin 1s steps(1) infinite;\n",
              "  }\n",
              "\n",
              "  @keyframes spin {\n",
              "    0% {\n",
              "      border-color: transparent;\n",
              "      border-bottom-color: var(--fill-color);\n",
              "      border-left-color: var(--fill-color);\n",
              "    }\n",
              "    20% {\n",
              "      border-color: transparent;\n",
              "      border-left-color: var(--fill-color);\n",
              "      border-top-color: var(--fill-color);\n",
              "    }\n",
              "    30% {\n",
              "      border-color: transparent;\n",
              "      border-left-color: var(--fill-color);\n",
              "      border-top-color: var(--fill-color);\n",
              "      border-right-color: var(--fill-color);\n",
              "    }\n",
              "    40% {\n",
              "      border-color: transparent;\n",
              "      border-right-color: var(--fill-color);\n",
              "      border-top-color: var(--fill-color);\n",
              "    }\n",
              "    60% {\n",
              "      border-color: transparent;\n",
              "      border-right-color: var(--fill-color);\n",
              "    }\n",
              "    80% {\n",
              "      border-color: transparent;\n",
              "      border-right-color: var(--fill-color);\n",
              "      border-bottom-color: var(--fill-color);\n",
              "    }\n",
              "    90% {\n",
              "      border-color: transparent;\n",
              "      border-bottom-color: var(--fill-color);\n",
              "    }\n",
              "  }\n",
              "</style>\n",
              "\n",
              "  <script>\n",
              "    async function quickchart(key) {\n",
              "      const quickchartButtonEl =\n",
              "        document.querySelector('#' + key + ' button');\n",
              "      quickchartButtonEl.disabled = true;  // To prevent multiple clicks.\n",
              "      quickchartButtonEl.classList.add('colab-df-spinner');\n",
              "      try {\n",
              "        const charts = await google.colab.kernel.invokeFunction(\n",
              "            'suggestCharts', [key], {});\n",
              "      } catch (error) {\n",
              "        console.error('Error during call to suggestCharts:', error);\n",
              "      }\n",
              "      quickchartButtonEl.classList.remove('colab-df-spinner');\n",
              "      quickchartButtonEl.classList.add('colab-df-quickchart-complete');\n",
              "    }\n",
              "    (() => {\n",
              "      let quickchartButtonEl =\n",
              "        document.querySelector('#df-d031bf17-3cab-4b56-8e9b-dbbaabfae2cb button');\n",
              "      quickchartButtonEl.style.display =\n",
              "        google.colab.kernel.accessAllowed ? 'block' : 'none';\n",
              "    })();\n",
              "  </script>\n",
              "</div>\n",
              "\n",
              "    </div>\n",
              "  </div>\n"
            ],
            "application/vnd.google.colaboratory.intrinsic+json": {
              "type": "dataframe",
              "variable_name": "dataset1_del_col",
              "summary": "{\n  \"name\": \"dataset1_del_col\",\n  \"rows\": 149,\n  \"fields\": [\n    {\n      \"column\": \"Id\",\n      \"properties\": {\n        \"dtype\": \"number\",\n        \"std\": 43,\n        \"min\": 1,\n        \"max\": 150,\n        \"num_unique_values\": 149,\n        \"samples\": [\n          75,\n          20,\n          119\n        ],\n        \"semantic_type\": \"\",\n        \"description\": \"\"\n      }\n    },\n    {\n      \"column\": \"SepalLengthCm\",\n      \"properties\": {\n        \"dtype\": \"number\",\n        \"std\": 0.8279425369850536,\n        \"min\": 4.3,\n        \"max\": 7.9,\n        \"num_unique_values\": 35,\n        \"samples\": [\n          6.2,\n          4.5,\n          5.6\n        ],\n        \"semantic_type\": \"\",\n        \"description\": \"\"\n      }\n    },\n    {\n      \"column\": \"PetalLengthCm\",\n      \"properties\": {\n        \"dtype\": \"number\",\n        \"std\": 1.7596511617753423,\n        \"min\": 1.0,\n        \"max\": 6.9,\n        \"num_unique_values\": 43,\n        \"samples\": [\n          6.7,\n          3.8,\n          3.7\n        ],\n        \"semantic_type\": \"\",\n        \"description\": \"\"\n      }\n    },\n    {\n      \"column\": \"PetalWidthCm\",\n      \"properties\": {\n        \"dtype\": \"number\",\n        \"std\": 0.7612920413899608,\n        \"min\": 0.1,\n        \"max\": 2.5,\n        \"num_unique_values\": 22,\n        \"samples\": [\n          0.2,\n          1.2,\n          1.3\n        ],\n        \"semantic_type\": \"\",\n        \"description\": \"\"\n      }\n    },\n    {\n      \"column\": \"Species\",\n      \"properties\": {\n        \"dtype\": \"category\",\n        \"num_unique_values\": 3,\n        \"samples\": [\n          \"Iris-setosa\",\n          \"Iris-versicolor\",\n          \"Iris-virginica\"\n        ],\n        \"semantic_type\": \"\",\n        \"description\": \"\"\n      }\n    }\n  ]\n}"
            }
          },
          "metadata": {},
          "execution_count": 22
        }
      ]
    },
    {
      "cell_type": "code",
      "source": [
        "data1 = {\n",
        "    'Employee_ID' : [101,102,103,104,105],\n",
        "    'Name' : ['Alice','Bob','Charlie','Diana','Edward'],\n",
        "    'Department' : ['HR','IT','IT','Marketing','Sales'],\n",
        "    'Age' : [29,34,41,28,38],\n",
        "    'Salary' : [50000,70000,65000,55000,60000],\n",
        "    'Years_of_Experience' : [4,8,10,3,12],\n",
        "    'Joining_Date' : ['2020-03-15','2017-07-19','2013-06-01','2021-02-10','2010-11-25'],\n",
        "    'Gender' : ['Female','Male','Male','Female','Male'],\n",
        "    'Bonus' : [5000,7000,6000,4500,5000],\n",
        "    'Rating' : [4.5,4.0,3.8,4.7,3.5]\n",
        "}\n",
        "\n",
        "dataset2= pd.DataFrame(data1)\n",
        "dataset2.to_csv('employees.csv')\n",
        "print(dataset2)"
      ],
      "metadata": {
        "colab": {
          "base_uri": "https://localhost:8080/"
        },
        "id": "Pb8J7R1Dsfqi",
        "outputId": "e2cb72b3-7aef-48d6-f163-689385343481"
      },
      "execution_count": 23,
      "outputs": [
        {
          "output_type": "stream",
          "name": "stdout",
          "text": [
            "   Employee_ID     Name Department  Age  Salary  Years_of_Experience  \\\n",
            "0          101    Alice         HR   29   50000                    4   \n",
            "1          102      Bob         IT   34   70000                    8   \n",
            "2          103  Charlie         IT   41   65000                   10   \n",
            "3          104    Diana  Marketing   28   55000                    3   \n",
            "4          105   Edward      Sales   38   60000                   12   \n",
            "\n",
            "  Joining_Date  Gender  Bonus  Rating  \n",
            "0   2020-03-15  Female   5000     4.5  \n",
            "1   2017-07-19    Male   7000     4.0  \n",
            "2   2013-06-01    Male   6000     3.8  \n",
            "3   2021-02-10  Female   4500     4.7  \n",
            "4   2010-11-25    Male   5000     3.5  \n"
          ]
        }
      ]
    },
    {
      "cell_type": "code",
      "source": [
        "print(dataset2.shape)"
      ],
      "metadata": {
        "colab": {
          "base_uri": "https://localhost:8080/"
        },
        "id": "6cDtnXzwsmKx",
        "outputId": "e868cc70-31b3-46e7-fa12-ca510047b9e0"
      },
      "execution_count": 24,
      "outputs": [
        {
          "output_type": "stream",
          "name": "stdout",
          "text": [
            "(5, 10)\n"
          ]
        }
      ]
    },
    {
      "cell_type": "code",
      "source": [
        "print(dataset2.info())"
      ],
      "metadata": {
        "colab": {
          "base_uri": "https://localhost:8080/"
        },
        "id": "06_WzOkJsrCA",
        "outputId": "d51c3373-514b-4fb8-a355-2648fbfc683b"
      },
      "execution_count": 25,
      "outputs": [
        {
          "output_type": "stream",
          "name": "stdout",
          "text": [
            "<class 'pandas.core.frame.DataFrame'>\n",
            "RangeIndex: 5 entries, 0 to 4\n",
            "Data columns (total 10 columns):\n",
            " #   Column               Non-Null Count  Dtype  \n",
            "---  ------               --------------  -----  \n",
            " 0   Employee_ID          5 non-null      int64  \n",
            " 1   Name                 5 non-null      object \n",
            " 2   Department           5 non-null      object \n",
            " 3   Age                  5 non-null      int64  \n",
            " 4   Salary               5 non-null      int64  \n",
            " 5   Years_of_Experience  5 non-null      int64  \n",
            " 6   Joining_Date         5 non-null      object \n",
            " 7   Gender               5 non-null      object \n",
            " 8   Bonus                5 non-null      int64  \n",
            " 9   Rating               5 non-null      float64\n",
            "dtypes: float64(1), int64(5), object(4)\n",
            "memory usage: 532.0+ bytes\n",
            "None\n"
          ]
        }
      ]
    },
    {
      "cell_type": "code",
      "source": [
        "print(dataset2.describe())"
      ],
      "metadata": {
        "colab": {
          "base_uri": "https://localhost:8080/"
        },
        "id": "mbWxxY_AsuXi",
        "outputId": "efe9ba73-f12f-4fae-b5dc-a280c826c712"
      },
      "execution_count": 26,
      "outputs": [
        {
          "output_type": "stream",
          "name": "stdout",
          "text": [
            "       Employee_ID        Age       Salary  Years_of_Experience   Bonus  \\\n",
            "count     5.000000   5.000000      5.00000             5.000000     5.0   \n",
            "mean    103.000000  34.000000  60000.00000             7.400000  5500.0   \n",
            "std       1.581139   5.612486   7905.69415             3.847077  1000.0   \n",
            "min     101.000000  28.000000  50000.00000             3.000000  4500.0   \n",
            "25%     102.000000  29.000000  55000.00000             4.000000  5000.0   \n",
            "50%     103.000000  34.000000  60000.00000             8.000000  5000.0   \n",
            "75%     104.000000  38.000000  65000.00000            10.000000  6000.0   \n",
            "max     105.000000  41.000000  70000.00000            12.000000  7000.0   \n",
            "\n",
            "         Rating  \n",
            "count  5.000000  \n",
            "mean   4.100000  \n",
            "std    0.494975  \n",
            "min    3.500000  \n",
            "25%    3.800000  \n",
            "50%    4.000000  \n",
            "75%    4.500000  \n",
            "max    4.700000  \n"
          ]
        }
      ]
    },
    {
      "cell_type": "code",
      "source": [
        "print(dataset2.head())"
      ],
      "metadata": {
        "colab": {
          "base_uri": "https://localhost:8080/"
        },
        "id": "rKm-LWGpsxQL",
        "outputId": "74c7ca4a-ab0b-44aa-c196-9dfdc99ab9f6"
      },
      "execution_count": 27,
      "outputs": [
        {
          "output_type": "stream",
          "name": "stdout",
          "text": [
            "   Employee_ID     Name Department  Age  Salary  Years_of_Experience  \\\n",
            "0          101    Alice         HR   29   50000                    4   \n",
            "1          102      Bob         IT   34   70000                    8   \n",
            "2          103  Charlie         IT   41   65000                   10   \n",
            "3          104    Diana  Marketing   28   55000                    3   \n",
            "4          105   Edward      Sales   38   60000                   12   \n",
            "\n",
            "  Joining_Date  Gender  Bonus  Rating  \n",
            "0   2020-03-15  Female   5000     4.5  \n",
            "1   2017-07-19    Male   7000     4.0  \n",
            "2   2013-06-01    Male   6000     3.8  \n",
            "3   2021-02-10  Female   4500     4.7  \n",
            "4   2010-11-25    Male   5000     3.5  \n"
          ]
        }
      ]
    },
    {
      "cell_type": "code",
      "source": [
        "print(dataset2.tail(3))"
      ],
      "metadata": {
        "colab": {
          "base_uri": "https://localhost:8080/"
        },
        "id": "mN-Lwq93szFC",
        "outputId": "e8181ddb-6e1a-4c78-92d6-a29d7ec475ed"
      },
      "execution_count": 28,
      "outputs": [
        {
          "output_type": "stream",
          "name": "stdout",
          "text": [
            "   Employee_ID     Name Department  Age  Salary  Years_of_Experience  \\\n",
            "2          103  Charlie         IT   41   65000                   10   \n",
            "3          104    Diana  Marketing   28   55000                    3   \n",
            "4          105   Edward      Sales   38   60000                   12   \n",
            "\n",
            "  Joining_Date  Gender  Bonus  Rating  \n",
            "2   2013-06-01    Male   6000     3.8  \n",
            "3   2021-02-10  Female   4500     4.7  \n",
            "4   2010-11-25    Male   5000     3.5  \n"
          ]
        }
      ]
    },
    {
      "cell_type": "code",
      "source": [
        "avg_sal = dataset2['Salary'].mean()\n",
        "total_bonus = dataset2['Bonus'].sum()\n",
        "min_age = dataset2['Age'].min()\n",
        "max_rate = dataset2['Rating'].max()\n",
        "\n",
        "print(f'Average Salary of Employees : {avg_sal}')\n",
        "print(f'Total Bonus paid to Employees : {total_bonus}')\n",
        "print(f\"Youngest employee's age : {min_age}\")\n",
        "print(f'Highest performance rating : {max_rate}')"
      ],
      "metadata": {
        "colab": {
          "base_uri": "https://localhost:8080/"
        },
        "id": "2ivwDQmZs2Ih",
        "outputId": "4cb3adcd-f76e-4297-fe53-971d97c4a638"
      },
      "execution_count": 29,
      "outputs": [
        {
          "output_type": "stream",
          "name": "stdout",
          "text": [
            "Average Salary of Employees : 60000.0\n",
            "Total Bonus paid to Employees : 27500\n",
            "Youngest employee's age : 28\n",
            "Highest performance rating : 4.7\n"
          ]
        }
      ]
    },
    {
      "cell_type": "code",
      "source": [
        "sorted_dataset= dataset2.sort_values(by = \"Salary\",ascending = False)\n",
        "print(sorted_dataset)"
      ],
      "metadata": {
        "colab": {
          "base_uri": "https://localhost:8080/"
        },
        "id": "lZEOBTbSs5Dj",
        "outputId": "697efbb3-96d7-4548-a8f4-14cdd6a8c534"
      },
      "execution_count": 30,
      "outputs": [
        {
          "output_type": "stream",
          "name": "stdout",
          "text": [
            "   Employee_ID     Name Department  Age  Salary  Years_of_Experience  \\\n",
            "1          102      Bob         IT   34   70000                    8   \n",
            "2          103  Charlie         IT   41   65000                   10   \n",
            "4          105   Edward      Sales   38   60000                   12   \n",
            "3          104    Diana  Marketing   28   55000                    3   \n",
            "0          101    Alice         HR   29   50000                    4   \n",
            "\n",
            "  Joining_Date  Gender  Bonus  Rating  \n",
            "1   2017-07-19    Male   7000     4.0  \n",
            "2   2013-06-01    Male   6000     3.8  \n",
            "4   2010-11-25    Male   5000     3.5  \n",
            "3   2021-02-10  Female   4500     4.7  \n",
            "0   2020-03-15  Female   5000     4.5  \n"
          ]
        }
      ]
    },
    {
      "cell_type": "code",
      "source": [
        "def performance(Rating):\n",
        "    if Rating >= 4.5:\n",
        "        return 'Excellent'\n",
        "    elif Rating >= 4.0 and Rating < 4.5:\n",
        "        return 'Good'\n",
        "    else:\n",
        "        return 'Average'\n",
        "\n",
        "dataset2['Performance'] = dataset2['Rating'].apply(performance)\n",
        "print(dataset2)"
      ],
      "metadata": {
        "colab": {
          "base_uri": "https://localhost:8080/"
        },
        "id": "aBXmggjds7yZ",
        "outputId": "ee2675f9-234e-4a0f-d09c-7e7706d22200"
      },
      "execution_count": 31,
      "outputs": [
        {
          "output_type": "stream",
          "name": "stdout",
          "text": [
            "   Employee_ID     Name Department  Age  Salary  Years_of_Experience  \\\n",
            "0          101    Alice         HR   29   50000                    4   \n",
            "1          102      Bob         IT   34   70000                    8   \n",
            "2          103  Charlie         IT   41   65000                   10   \n",
            "3          104    Diana  Marketing   28   55000                    3   \n",
            "4          105   Edward      Sales   38   60000                   12   \n",
            "\n",
            "  Joining_Date  Gender  Bonus  Rating Performance  \n",
            "0   2020-03-15  Female   5000     4.5   Excellent  \n",
            "1   2017-07-19    Male   7000     4.0        Good  \n",
            "2   2013-06-01    Male   6000     3.8     Average  \n",
            "3   2021-02-10  Female   4500     4.7   Excellent  \n",
            "4   2010-11-25    Male   5000     3.5     Average  \n"
          ]
        }
      ]
    },
    {
      "cell_type": "code",
      "source": [
        "missing=dataset2.isnull().sum()\n",
        "print(missing)"
      ],
      "metadata": {
        "colab": {
          "base_uri": "https://localhost:8080/"
        },
        "id": "PMOirLVBs-Wh",
        "outputId": "aa6907da-0c59-4af2-cee4-6ac709592183"
      },
      "execution_count": 32,
      "outputs": [
        {
          "output_type": "stream",
          "name": "stdout",
          "text": [
            "Employee_ID            0\n",
            "Name                   0\n",
            "Department             0\n",
            "Age                    0\n",
            "Salary                 0\n",
            "Years_of_Experience    0\n",
            "Joining_Date           0\n",
            "Gender                 0\n",
            "Bonus                  0\n",
            "Rating                 0\n",
            "Performance            0\n",
            "dtype: int64\n"
          ]
        }
      ]
    },
    {
      "cell_type": "code",
      "source": [
        "dataset2.rename(columns = {'Employee_ID' : 'ID'},inplace = True)\n",
        "print(dataset2)"
      ],
      "metadata": {
        "colab": {
          "base_uri": "https://localhost:8080/"
        },
        "id": "nB7NL0gqtA68",
        "outputId": "78bbf2b4-fd93-4b7c-ce82-fc7f78f6c385"
      },
      "execution_count": 33,
      "outputs": [
        {
          "output_type": "stream",
          "name": "stdout",
          "text": [
            "    ID     Name Department  Age  Salary  Years_of_Experience Joining_Date  \\\n",
            "0  101    Alice         HR   29   50000                    4   2020-03-15   \n",
            "1  102      Bob         IT   34   70000                    8   2017-07-19   \n",
            "2  103  Charlie         IT   41   65000                   10   2013-06-01   \n",
            "3  104    Diana  Marketing   28   55000                    3   2021-02-10   \n",
            "4  105   Edward      Sales   38   60000                   12   2010-11-25   \n",
            "\n",
            "   Gender  Bonus  Rating Performance  \n",
            "0  Female   5000     4.5   Excellent  \n",
            "1    Male   7000     4.0        Good  \n",
            "2    Male   6000     3.8     Average  \n",
            "3  Female   4500     4.7   Excellent  \n",
            "4    Male   5000     3.5     Average  \n"
          ]
        }
      ]
    },
    {
      "cell_type": "code",
      "source": [
        "experience = dataset2[(dataset2['Years_of_Experience'] > 5)]\n",
        "print(experience)"
      ],
      "metadata": {
        "colab": {
          "base_uri": "https://localhost:8080/"
        },
        "id": "f_G15v1RtDPR",
        "outputId": "8ea553bb-8b8d-4a4f-a055-10a701bb1d90"
      },
      "execution_count": 34,
      "outputs": [
        {
          "output_type": "stream",
          "name": "stdout",
          "text": [
            "    ID     Name Department  Age  Salary  Years_of_Experience Joining_Date  \\\n",
            "1  102      Bob         IT   34   70000                    8   2017-07-19   \n",
            "2  103  Charlie         IT   41   65000                   10   2013-06-01   \n",
            "4  105   Edward      Sales   38   60000                   12   2010-11-25   \n",
            "\n",
            "  Gender  Bonus  Rating Performance  \n",
            "1   Male   7000     4.0        Good  \n",
            "2   Male   6000     3.8     Average  \n",
            "4   Male   5000     3.5     Average  \n"
          ]
        }
      ]
    },
    {
      "cell_type": "code",
      "source": [
        "dept = dataset2[(dataset2['Department'] == 'IT')]\n",
        "print(dept)"
      ],
      "metadata": {
        "colab": {
          "base_uri": "https://localhost:8080/"
        },
        "id": "Of2DOr5btG9p",
        "outputId": "cbda41d2-0bc4-43fb-bb90-77f4e9ca0816"
      },
      "execution_count": 35,
      "outputs": [
        {
          "output_type": "stream",
          "name": "stdout",
          "text": [
            "    ID     Name Department  Age  Salary  Years_of_Experience Joining_Date  \\\n",
            "1  102      Bob         IT   34   70000                    8   2017-07-19   \n",
            "2  103  Charlie         IT   41   65000                   10   2013-06-01   \n",
            "\n",
            "  Gender  Bonus  Rating Performance  \n",
            "1   Male   7000     4.0        Good  \n",
            "2   Male   6000     3.8     Average  \n"
          ]
        }
      ]
    },
    {
      "cell_type": "code",
      "source": [
        "dataset2['Tax'] = dataset2['Salary'] * 0.10\n",
        "print(dataset2)"
      ],
      "metadata": {
        "colab": {
          "base_uri": "https://localhost:8080/"
        },
        "id": "m3TIcdo_tIGK",
        "outputId": "340a3be5-e0a6-4e3d-fd08-b5890609e896"
      },
      "execution_count": 36,
      "outputs": [
        {
          "output_type": "stream",
          "name": "stdout",
          "text": [
            "    ID     Name Department  Age  Salary  Years_of_Experience Joining_Date  \\\n",
            "0  101    Alice         HR   29   50000                    4   2020-03-15   \n",
            "1  102      Bob         IT   34   70000                    8   2017-07-19   \n",
            "2  103  Charlie         IT   41   65000                   10   2013-06-01   \n",
            "3  104    Diana  Marketing   28   55000                    3   2021-02-10   \n",
            "4  105   Edward      Sales   38   60000                   12   2010-11-25   \n",
            "\n",
            "   Gender  Bonus  Rating Performance     Tax  \n",
            "0  Female   5000     4.5   Excellent  5000.0  \n",
            "1    Male   7000     4.0        Good  7000.0  \n",
            "2    Male   6000     3.8     Average  6500.0  \n",
            "3  Female   4500     4.7   Excellent  5500.0  \n",
            "4    Male   5000     3.5     Average  6000.0  \n"
          ]
        }
      ]
    },
    {
      "cell_type": "code",
      "source": [
        "dataset2.to_csv('employees_new.csv',index = False)\n",
        "print(dataset2)"
      ],
      "metadata": {
        "id": "yNayVKzetLzm",
        "outputId": "46642f28-cb67-4234-acb3-1bbcd43b5945",
        "colab": {
          "base_uri": "https://localhost:8080/"
        }
      },
      "execution_count": 37,
      "outputs": [
        {
          "output_type": "stream",
          "name": "stdout",
          "text": [
            "    ID     Name Department  Age  Salary  Years_of_Experience Joining_Date  \\\n",
            "0  101    Alice         HR   29   50000                    4   2020-03-15   \n",
            "1  102      Bob         IT   34   70000                    8   2017-07-19   \n",
            "2  103  Charlie         IT   41   65000                   10   2013-06-01   \n",
            "3  104    Diana  Marketing   28   55000                    3   2021-02-10   \n",
            "4  105   Edward      Sales   38   60000                   12   2010-11-25   \n",
            "\n",
            "   Gender  Bonus  Rating Performance     Tax  \n",
            "0  Female   5000     4.5   Excellent  5000.0  \n",
            "1    Male   7000     4.0        Good  7000.0  \n",
            "2    Male   6000     3.8     Average  6500.0  \n",
            "3  Female   4500     4.7   Excellent  5500.0  \n",
            "4    Male   5000     3.5     Average  6000.0  \n"
          ]
        }
      ]
    }
  ]
}
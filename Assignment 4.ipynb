{
  "nbformat": 4,
  "nbformat_minor": 0,
  "metadata": {
    "colab": {
      "provenance": []
    },
    "kernelspec": {
      "name": "python3",
      "display_name": "Python 3"
    },
    "language_info": {
      "name": "python"
    }
  },
  "cells": [
    {
      "cell_type": "code",
      "execution_count": 11,
      "metadata": {
        "colab": {
          "base_uri": "https://localhost:8080/"
        },
        "id": "ReSPL6yUksqS",
        "outputId": "f775d0cb-6648-4edb-ba08-dfd4682b3170"
      },
      "outputs": [
        {
          "output_type": "stream",
          "name": "stdout",
          "text": [
            "                                   Title    Price Availability StarRating\n",
            "0                   A Light in the Attic  Â£51.77     In stock      Three\n",
            "1                     Tipping the Velvet  Â£53.74     In stock        One\n",
            "2                             Soumission  Â£50.10     In stock        One\n",
            "3                          Sharp Objects  Â£47.82     In stock       Four\n",
            "4  Sapiens: A Brief History of Humankind  Â£54.23     In stock       Five\n"
          ]
        }
      ],
      "source": [
        "#Q1\n",
        "import requests\n",
        "from bs4 import BeautifulSoup\n",
        "import pandas as pd\n",
        "\n",
        "all_titles = []\n",
        "all_prices = []\n",
        "all_availability = []\n",
        "all_ratings = []\n",
        "\n",
        "page = 1\n",
        "base_url = \"https://books.toscrape.com/catalogue/page-{}.html\"\n",
        "\n",
        "while True:\n",
        "    url = base_url.format(page)\n",
        "    response = requests.get(url)\n",
        "    if response.status_code != 200:\n",
        "        break\n",
        "    soup = BeautifulSoup(response.text, \"html.parser\")\n",
        "    books = soup.find_all(\"article\", class_=\"product_pod\")\n",
        "    if not books:\n",
        "        break\n",
        "    for book in books:\n",
        "        title = book.h3.a.attrs['title']\n",
        "        price = book.find(\"p\", class_=\"price_color\").text\n",
        "        availability = book.find(\"p\", class_=\"instock availability\").text.strip()\n",
        "        rating = book.p.attrs['class'][1]\n",
        "        all_titles.append(title)\n",
        "        all_prices.append(price)\n",
        "        all_availability.append(availability)\n",
        "        all_ratings.append(rating)\n",
        "    page += 1\n",
        "\n",
        "df_books = pd.DataFrame({\n",
        "    \"Title\": all_titles,\n",
        "    \"Price\": all_prices,\n",
        "    \"Availability\": all_availability,\n",
        "    \"StarRating\": all_ratings,\n",
        "})\n",
        "\n",
        "df_books.to_csv(\"books.csv\", index=False)\n",
        "print(df_books.head())\n"
      ]
    },
    {
      "cell_type": "code",
      "source": [
        "#Q2\n",
        "!pip install selenium\n",
        "!apt-get update # for driver installation\n",
        "!apt install chromium-chromedriver\n",
        "\n",
        "\n",
        "from selenium import webdriver\n",
        "from selenium.webdriver.common.by import By\n",
        "import pandas as pd\n",
        "import time\n",
        "\n",
        "options = webdriver.ChromeOptions()\n",
        "options.add_argument('--headless')\n",
        "options.add_argument('--no-sandbox')\n",
        "options.add_argument('--disable-dev-shm-usage')\n",
        "driver = webdriver.Chrome(options=options)\n",
        "\n",
        "driver.get(\"https://www.imdb.com/chart/top\")\n",
        "time.sleep(3)\n",
        "\n",
        "ranks = []\n",
        "titles = []\n",
        "years = []\n",
        "ratings = []\n",
        "\n",
        "rows = driver.find_elements(By.CSS_SELECTOR, \"tbody.lister-list tr\")\n",
        "for rank, row in enumerate(rows, start=1):\n",
        "    title_col = row.find_element(By.CLASS_NAME, \"titleColumn\")\n",
        "    title = title_col.find_element(By.TAG_NAME, \"a\").text\n",
        "    year = title_col.find_element(By.CLASS_NAME, \"secondaryInfo\").text.strip(\"()\")\n",
        "    rating = row.find_element(By.CLASS_NAME, \"imdbRating\").text.strip()\n",
        "    ranks.append(rank)\n",
        "    titles.append(title)\n",
        "    years.append(year)\n",
        "    ratings.append(rating)\n",
        "\n",
        "driver.quit()\n",
        "\n",
        "df_movies = pd.DataFrame({\n",
        "    \"Rank\": ranks,\n",
        "    \"Title\": titles,\n",
        "    \"Year\": years,\n",
        "    \"IMDB_Rating\": ratings,\n",
        "})\n",
        "\n",
        "df_movies.to_csv(\"imdbtop250.csv\", index=False)\n",
        "print(df_movies.head())\n",
        "\n"
      ],
      "metadata": {
        "colab": {
          "base_uri": "https://localhost:8080/"
        },
        "id": "POHk1EfMpVS1",
        "outputId": "502427b8-d8ee-49cd-eabd-68489e86f207"
      },
      "execution_count": 17,
      "outputs": [
        {
          "output_type": "stream",
          "name": "stdout",
          "text": [
            "Requirement already satisfied: selenium in /usr/local/lib/python3.12/dist-packages (4.38.0)\n",
            "Requirement already satisfied: urllib3<3.0,>=2.5.0 in /usr/local/lib/python3.12/dist-packages (from urllib3[socks]<3.0,>=2.5.0->selenium) (2.5.0)\n",
            "Requirement already satisfied: trio<1.0,>=0.31.0 in /usr/local/lib/python3.12/dist-packages (from selenium) (0.31.0)\n",
            "Requirement already satisfied: trio-websocket<1.0,>=0.12.2 in /usr/local/lib/python3.12/dist-packages (from selenium) (0.12.2)\n",
            "Requirement already satisfied: certifi>=2025.10.5 in /usr/local/lib/python3.12/dist-packages (from selenium) (2025.10.5)\n",
            "Requirement already satisfied: typing_extensions<5.0,>=4.15.0 in /usr/local/lib/python3.12/dist-packages (from selenium) (4.15.0)\n",
            "Requirement already satisfied: websocket-client<2.0,>=1.8.0 in /usr/local/lib/python3.12/dist-packages (from selenium) (1.9.0)\n",
            "Requirement already satisfied: attrs>=23.2.0 in /usr/local/lib/python3.12/dist-packages (from trio<1.0,>=0.31.0->selenium) (25.4.0)\n",
            "Requirement already satisfied: sortedcontainers in /usr/local/lib/python3.12/dist-packages (from trio<1.0,>=0.31.0->selenium) (2.4.0)\n",
            "Requirement already satisfied: idna in /usr/local/lib/python3.12/dist-packages (from trio<1.0,>=0.31.0->selenium) (3.11)\n",
            "Requirement already satisfied: outcome in /usr/local/lib/python3.12/dist-packages (from trio<1.0,>=0.31.0->selenium) (1.3.0.post0)\n",
            "Requirement already satisfied: sniffio>=1.3.0 in /usr/local/lib/python3.12/dist-packages (from trio<1.0,>=0.31.0->selenium) (1.3.1)\n",
            "Requirement already satisfied: wsproto>=0.14 in /usr/local/lib/python3.12/dist-packages (from trio-websocket<1.0,>=0.12.2->selenium) (1.2.0)\n",
            "Requirement already satisfied: pysocks!=1.5.7,<2.0,>=1.5.6 in /usr/local/lib/python3.12/dist-packages (from urllib3[socks]<3.0,>=2.5.0->selenium) (1.7.1)\n",
            "Requirement already satisfied: h11<1,>=0.9.0 in /usr/local/lib/python3.12/dist-packages (from wsproto>=0.14->trio-websocket<1.0,>=0.12.2->selenium) (0.16.0)\n",
            "Hit:1 http://archive.ubuntu.com/ubuntu jammy InRelease\n",
            "Hit:2 http://security.ubuntu.com/ubuntu jammy-security InRelease\n",
            "Get:3 https://cli.github.com/packages stable InRelease [3,917 B]\n",
            "Hit:4 http://archive.ubuntu.com/ubuntu jammy-updates InRelease\n",
            "Hit:5 https://cloud.r-project.org/bin/linux/ubuntu jammy-cran40/ InRelease\n",
            "Hit:6 http://archive.ubuntu.com/ubuntu jammy-backports InRelease\n",
            "Hit:7 https://developer.download.nvidia.com/compute/cuda/repos/ubuntu2204/x86_64  InRelease\n",
            "Hit:8 https://r2u.stat.illinois.edu/ubuntu jammy InRelease\n",
            "Hit:9 https://ppa.launchpadcontent.net/deadsnakes/ppa/ubuntu jammy InRelease\n",
            "Hit:10 https://ppa.launchpadcontent.net/graphics-drivers/ppa/ubuntu jammy InRelease\n",
            "Hit:11 https://ppa.launchpadcontent.net/ubuntugis/ppa/ubuntu jammy InRelease\n",
            "Fetched 3,917 B in 1s (3,253 B/s)\n",
            "Reading package lists... Done\n",
            "W: Skipping acquire of configured file 'main/source/Sources' as repository 'https://r2u.stat.illinois.edu/ubuntu jammy InRelease' does not seem to provide it (sources.list entry misspelt?)\n",
            "Reading package lists... Done\n",
            "Building dependency tree... Done\n",
            "Reading state information... Done\n",
            "chromium-chromedriver is already the newest version (1:85.0.4183.83-0ubuntu2.22.04.1).\n",
            "0 upgraded, 0 newly installed, 0 to remove and 37 not upgraded.\n",
            "Empty DataFrame\n",
            "Columns: [Rank, Title, Year, IMDB_Rating]\n",
            "Index: []\n"
          ]
        }
      ]
    },
    {
      "cell_type": "code",
      "source": [
        "#Q3\n",
        "import requests\n",
        "from bs4 import BeautifulSoup\n",
        "import pandas as pd\n",
        "\n",
        "url = \"https://www.timeanddate.com/weather/\"\n",
        "response = requests.get(url)\n",
        "soup = BeautifulSoup(response.text, \"html.parser\")\n",
        "\n",
        "cities = []\n",
        "temps = []\n",
        "conditions = []\n",
        "\n",
        "tables = soup.find_all('table')\n",
        "found = False\n",
        "for table in tables:\n",
        "    if table.tbody:\n",
        "        rows = table.tbody.find_all('tr')\n",
        "        for row in rows:\n",
        "            columns = row.find_all('td')\n",
        "            if len(columns) >= 4:\n",
        "                city = columns[0].get_text(strip=True)\n",
        "                temp = columns[1].get_text(strip=True)\n",
        "                cond = columns[2].get_text(strip=True)\n",
        "                if city and temp and cond:\n",
        "                    cities.append(city)\n",
        "                    temps.append(temp)\n",
        "                    conditions.append(cond)\n",
        "                    found = True\n",
        "if not found:\n",
        "    print(\"No weather data table found. HTML structure might have changed.\")\n",
        "\n",
        "df_weather = pd.DataFrame({\n",
        "    \"City\": cities,\n",
        "    \"Temperature\": temps,\n",
        "    \"Condition\": conditions,\n",
        "})\n",
        "\n",
        "df_weather.to_csv(\"weather.csv\", index=False)\n",
        "print(df_weather.head())\n"
      ],
      "metadata": {
        "colab": {
          "base_uri": "https://localhost:8080/"
        },
        "id": "pf8sNrvHpfDB",
        "outputId": "abbfdb75-9662-4526-911e-ebbb1cb603af"
      },
      "execution_count": 19,
      "outputs": [
        {
          "output_type": "stream",
          "name": "stdout",
          "text": [
            "No weather data table found. HTML structure might have changed.\n",
            "Empty DataFrame\n",
            "Columns: [City, Temperature, Condition]\n",
            "Index: []\n"
          ]
        }
      ]
    },
    {
      "cell_type": "code",
      "source": [],
      "metadata": {
        "id": "uSPtLDeBrQyJ"
      },
      "execution_count": null,
      "outputs": []
    }
  ]
}